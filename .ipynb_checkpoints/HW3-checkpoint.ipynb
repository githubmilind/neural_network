{
 "cells": [
  {
   "cell_type": "code",
   "execution_count": 21,
   "metadata": {},
   "outputs": [],
   "source": [
    "import numpy as np"
   ]
  },
  {
   "cell_type": "code",
   "execution_count": 38,
   "metadata": {},
   "outputs": [
    {
     "name": "stdout",
     "output_type": "stream",
     "text": [
      "[[1, -1, -1], [1, 1, 1], [1, 0, -1], [1, 0, 1], [1, -1, 0], [1, 1, 0]]\n",
      "[0, 1, 1, 0, 0, 1]\n"
     ]
    }
   ],
   "source": [
    "D = [[1,-1,-1], [1,1,1], [1,0,-1], [1,0,1], [1,-1,0], [1,1,0]]\n",
    "d = [0,1,1,0,0,1]\n",
    "w = [1,1,1]\n",
    "dw = [0,0,0]\n",
    "learning_rate = 0.2\n",
    "print(D)\n",
    "print(label)"
   ]
  },
  {
   "cell_type": "code",
   "execution_count": 43,
   "metadata": {},
   "outputs": [
    {
     "name": "stdout",
     "output_type": "stream",
     "text": [
      "1 -1 -1 0\n",
      "v =  0\n",
      "wj =  [ 0. -0. -0.]\n",
      "dw =  [0.52 1.52 0.28]\n",
      "----------------------\n",
      "1 1 1 1\n",
      "v =  1\n",
      "wj =  [0. 0. 0.]\n",
      "dw =  [0.52 1.52 0.28]\n",
      "----------------------\n",
      "1 0 -1 1\n",
      "v =  1\n",
      "wj =  [ 0.  0. -0.]\n",
      "dw =  [0.52 1.52 0.28]\n",
      "----------------------\n",
      "1 0 1 0\n",
      "v =  1\n",
      "wj =  [-0.2 -0.  -0.2]\n",
      "dw =  [0.32 1.52 0.08]\n",
      "----------------------\n",
      "1 -1 0 0\n",
      "v =  0\n",
      "wj =  [ 0. -0.  0.]\n",
      "dw =  [0.32 1.52 0.08]\n",
      "----------------------\n",
      "1 1 0 1\n",
      "v =  1\n",
      "wj =  [0. 0. 0.]\n",
      "dw =  [0.32 1.52 0.08]\n",
      "----------------------\n"
     ]
    }
   ],
   "source": [
    "for i in range(6):\n",
    "    print(D[i][0], D[i][1], D[i][2], d[i])\n",
    "    o = np.dot(D[i], w)\n",
    "    o = 1 if o >= 0 else 0\n",
    "    print(\"v = \", o)\n",
    "    wj = np.multiply(learning_rate * (d[i] - o), D[i])\n",
    "    print(\"wj = \", wj)\n",
    "    dw = np.add(dw, wj)\n",
    "    print(\"dw = \", dw)\n",
    "    print(\"----------------------\")"
   ]
  },
  {
   "cell_type": "code",
   "execution_count": 44,
   "metadata": {},
   "outputs": [
    {
     "name": "stdout",
     "output_type": "stream",
     "text": [
      "1 -1 -1 0\n",
      "v =  0\n",
      "wj =  [ 0. -0. -0.]\n",
      "dw =  [0.32 1.52 0.08]\n",
      "----------------------\n",
      "1 1 1 1\n",
      "v =  1\n",
      "wj =  [0. 0. 0.]\n",
      "dw =  [0.32 1.52 0.08]\n",
      "----------------------\n",
      "1 0 -1 1\n",
      "v =  1\n",
      "wj =  [ 0.  0. -0.]\n",
      "dw =  [0.32 1.52 0.08]\n",
      "----------------------\n",
      "1 0 1 0\n",
      "v =  1\n",
      "wj =  [-0.2 -0.  -0.2]\n",
      "dw =  [ 0.12  1.52 -0.12]\n",
      "----------------------\n",
      "1 -1 0 0\n",
      "v =  0\n",
      "wj =  [ 0. -0.  0.]\n",
      "dw =  [ 0.12  1.52 -0.12]\n",
      "----------------------\n",
      "1 1 0 1\n",
      "v =  1\n",
      "wj =  [0. 0. 0.]\n",
      "dw =  [ 0.12  1.52 -0.12]\n",
      "----------------------\n"
     ]
    }
   ],
   "source": [
    "w = dw\n",
    "for i in range(6):\n",
    "    print(D[i][0], D[i][1], D[i][2], d[i])\n",
    "    o = np.dot(D[i], w)\n",
    "    o = 1 if o >= 0 else 0\n",
    "    print(\"v = \", o)\n",
    "    wj = np.multiply(learning_rate * (d[i] - o), D[i])\n",
    "    print(\"wj = \", wj)\n",
    "    dw = np.add(dw, wj)\n",
    "    print(\"dw = \", dw)\n",
    "    print(\"----------------------\")"
   ]
  }
 ],
 "metadata": {
  "kernelspec": {
   "display_name": "Python 3",
   "language": "python",
   "name": "python3"
  },
  "language_info": {
   "codemirror_mode": {
    "name": "ipython",
    "version": 3
   },
   "file_extension": ".py",
   "mimetype": "text/x-python",
   "name": "python",
   "nbconvert_exporter": "python",
   "pygments_lexer": "ipython3",
   "version": "3.8.5"
  }
 },
 "nbformat": 4,
 "nbformat_minor": 4
}
