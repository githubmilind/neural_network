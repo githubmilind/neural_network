{
 "cells": [
  {
   "cell_type": "code",
   "execution_count": 2,
   "metadata": {},
   "outputs": [],
   "source": [
    "import numpy as np"
   ]
  },
  {
   "cell_type": "markdown",
   "metadata": {},
   "source": [
    "Q. 9 - gradient descent learning rule"
   ]
  },
  {
   "cell_type": "code",
   "execution_count": 15,
   "metadata": {},
   "outputs": [
    {
     "name": "stdout",
     "output_type": "stream",
     "text": [
      "[[1, -1, -1], [1, 1, 1], [1, 0, -1], [1, 0, 1], [1, -1, 0], [1, 1, 0]]\n",
      "[0, 1, 1, 0, 0, 1]\n"
     ]
    }
   ],
   "source": [
    "D = [[1,-1,-1], [1,1,1], [1,0,-1], [1,0,1], [1,-1,0], [1,1,0]]\n",
    "d = [0,1,1,0,0,1]\n",
    "w = [1,1,1]\n",
    "learning_rate = 0.2\n",
    "print(D)\n",
    "print(d)"
   ]
  },
  {
   "cell_type": "code",
   "execution_count": 16,
   "metadata": {},
   "outputs": [
    {
     "name": "stdout",
     "output_type": "stream",
     "text": [
      "1 -1 -1\n",
      "v =  -1\n",
      "d =  0\n",
      "o =  0\n",
      "wj =  [ 0. -0. -0.]\n",
      "dw =  [0. 0. 0.]\n",
      "----------------------\n",
      "1 1 1\n",
      "v =  3\n",
      "d =  1\n",
      "o =  1\n",
      "wj =  [0. 0. 0.]\n",
      "dw =  [0. 0. 0.]\n",
      "----------------------\n",
      "1 0 -1\n",
      "v =  0\n",
      "d =  1\n",
      "o =  1\n",
      "wj =  [ 0.  0. -0.]\n",
      "dw =  [0. 0. 0.]\n",
      "----------------------\n",
      "1 0 1\n",
      "v =  2\n",
      "d =  0\n",
      "o =  1\n",
      "wj =  [-0.2 -0.  -0.2]\n",
      "dw =  [-0.2  0.  -0.2]\n",
      "----------------------\n",
      "1 -1 0\n",
      "v =  0\n",
      "d =  0\n",
      "o =  1\n",
      "wj =  [-0.2  0.2 -0. ]\n",
      "dw =  [-0.4  0.2 -0.2]\n",
      "----------------------\n",
      "1 1 0\n",
      "v =  2\n",
      "d =  1\n",
      "o =  1\n",
      "wj =  [0. 0. 0.]\n",
      "dw =  [-0.4  0.2 -0.2]\n",
      "----------------------\n"
     ]
    }
   ],
   "source": [
    "dw = [0,0,0]\n",
    "for i in range(6):\n",
    "    print(D[i][0], D[i][1], D[i][2])\n",
    "    o = np.dot(D[i], w)\n",
    "    print(\"v = \", o)\n",
    "    o = 1 if o >= 0 else 0\n",
    "    print(\"d = \", d[i])\n",
    "    print(\"o = \", o)\n",
    "    wj = np.multiply(learning_rate * (d[i] - o), D[i])\n",
    "    print(\"wj = \", wj)\n",
    "    dw = np.add(dw, wj)\n",
    "    print(\"dw = \", dw)\n",
    "    print(\"----------------------\")"
   ]
  },
  {
   "cell_type": "code",
   "execution_count": 17,
   "metadata": {
    "scrolled": true
   },
   "outputs": [
    {
     "name": "stdout",
     "output_type": "stream",
     "text": [
      "new weight =  [0.6 1.2 0.8]\n",
      "1 -1 -1\n",
      "v =  -1.4\n",
      "d =  0\n",
      "o =  0\n",
      "wj =  [ 0. -0. -0.]\n",
      "dw =  [-0.4  0.2 -0.2]\n",
      "----------------------\n",
      "1 1 1\n",
      "v =  2.5999999999999996\n",
      "d =  1\n",
      "o =  1\n",
      "wj =  [0. 0. 0.]\n",
      "dw =  [-0.4  0.2 -0.2]\n",
      "----------------------\n",
      "1 0 -1\n",
      "v =  -0.20000000000000007\n",
      "d =  1\n",
      "o =  0\n",
      "wj =  [ 0.2  0.  -0.2]\n",
      "dw =  [-0.2  0.2 -0.4]\n",
      "----------------------\n",
      "1 0 1\n",
      "v =  1.4\n",
      "d =  0\n",
      "o =  1\n",
      "wj =  [-0.2 -0.  -0.2]\n",
      "dw =  [-0.4  0.2 -0.6]\n",
      "----------------------\n",
      "1 -1 0\n",
      "v =  -0.6\n",
      "d =  0\n",
      "o =  0\n",
      "wj =  [ 0. -0.  0.]\n",
      "dw =  [-0.4  0.2 -0.6]\n",
      "----------------------\n",
      "1 1 0\n",
      "v =  1.7999999999999998\n",
      "d =  1\n",
      "o =  1\n",
      "wj =  [0. 0. 0.]\n",
      "dw =  [-0.4  0.2 -0.6]\n",
      "----------------------\n"
     ]
    }
   ],
   "source": [
    "w = np.add(w, dw)\n",
    "print(\"new weight = \", w)\n",
    "for i in range(6):\n",
    "    print(D[i][0], D[i][1], D[i][2])\n",
    "    o = np.dot(D[i], w)\n",
    "    print(\"v = \", o)\n",
    "    o = 1 if o >= 0 else 0\n",
    "    print(\"d = \", d[i])\n",
    "    print(\"o = \", o)\n",
    "    wj = np.multiply(learning_rate * (d[i] - o), D[i])\n",
    "    print(\"wj = \", wj)\n",
    "    dw = np.add(dw, wj)\n",
    "    print(\"dw = \", dw)\n",
    "    print(\"----------------------\")"
   ]
  },
  {
   "cell_type": "code",
   "execution_count": null,
   "metadata": {},
   "outputs": [],
   "source": [
    "Q. 10 - Delta learning rule (AdaLine)"
   ]
  },
  {
   "cell_type": "code",
   "execution_count": 24,
   "metadata": {},
   "outputs": [
    {
     "name": "stdout",
     "output_type": "stream",
     "text": [
      "[[1, -1, -1], [1, 1, 1], [1, 0, -1], [1, 0, 1], [1, -1, 0], [1, 1, 0]]\n",
      "[0, 1, 1, 0, 0, 1]\n"
     ]
    }
   ],
   "source": [
    "D = [[1,-1,-1], [1,1,1], [1,0,-1], [1,0,1], [1,-1,0], [1,1,0]]\n",
    "d = [0,1,1,0,0,1]\n",
    "w = [1,1,1]\n",
    "learning_rate = 0.2\n",
    "print(D)\n",
    "print(d)"
   ]
  },
  {
   "cell_type": "code",
   "execution_count": 25,
   "metadata": {},
   "outputs": [
    {
     "name": "stdout",
     "output_type": "stream",
     "text": [
      "1 -1 -1\n",
      "Weight =  [1, 1, 1]\n",
      "v =  -1\n",
      "d =  0\n",
      "o =  0\n",
      "wj =  [ 0. -0. -0.]\n",
      "dw =  [1. 1. 1.]\n",
      "----------------------\n",
      "1 1 1\n",
      "Weight =  [1. 1. 1.]\n",
      "v =  3.0\n",
      "d =  1\n",
      "o =  1\n",
      "wj =  [0. 0. 0.]\n",
      "dw =  [1. 1. 1.]\n",
      "----------------------\n",
      "1 0 -1\n",
      "Weight =  [1. 1. 1.]\n",
      "v =  0.0\n",
      "d =  1\n",
      "o =  1\n",
      "wj =  [ 0.  0. -0.]\n",
      "dw =  [1. 1. 1.]\n",
      "----------------------\n",
      "1 0 1\n",
      "Weight =  [1. 1. 1.]\n",
      "v =  2.0\n",
      "d =  0\n",
      "o =  1\n",
      "wj =  [-0.2 -0.  -0.2]\n",
      "dw =  [0.8 1.  0.8]\n",
      "----------------------\n",
      "1 -1 0\n",
      "Weight =  [0.8 1.  0.8]\n",
      "v =  -0.19999999999999996\n",
      "d =  0\n",
      "o =  0\n",
      "wj =  [ 0. -0.  0.]\n",
      "dw =  [0.8 1.  0.8]\n",
      "----------------------\n",
      "1 1 0\n",
      "Weight =  [0.8 1.  0.8]\n",
      "v =  1.8\n",
      "d =  1\n",
      "o =  1\n",
      "wj =  [0. 0. 0.]\n",
      "dw =  [0.8 1.  0.8]\n",
      "----------------------\n"
     ]
    }
   ],
   "source": [
    "dw = w\n",
    "for i in range(6):\n",
    "    print(D[i][0], D[i][1], D[i][2])\n",
    "    print(\"Weight = \", w)\n",
    "    o = np.dot(D[i], w)\n",
    "    print(\"v = \", o)\n",
    "    o = 1 if o >= 0 else 0\n",
    "    print(\"d = \", d[i])\n",
    "    print(\"o = \", o)\n",
    "    wj = np.multiply(learning_rate * (d[i] - o), D[i])\n",
    "    dw = np.add(dw, wj)\n",
    "    w = dw\n",
    "    print(\"wj = \", wj)\n",
    "    print(\"dw = \", dw)\n",
    "    print(\"----------------------\")"
   ]
  }
 ],
 "metadata": {
  "kernelspec": {
   "display_name": "Python 3",
   "language": "python",
   "name": "python3"
  },
  "language_info": {
   "codemirror_mode": {
    "name": "ipython",
    "version": 3
   },
   "file_extension": ".py",
   "mimetype": "text/x-python",
   "name": "python",
   "nbconvert_exporter": "python",
   "pygments_lexer": "ipython3",
   "version": "3.8.5"
  }
 },
 "nbformat": 4,
 "nbformat_minor": 4
}
