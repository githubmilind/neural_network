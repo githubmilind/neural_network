{
 "cells": [
  {
   "cell_type": "code",
   "execution_count": 1,
   "metadata": {},
   "outputs": [],
   "source": [
    "# Import libraries\n",
    "import pandas as pd\n",
    "import numpy as np\n",
    "import matplotlib.pyplot as plt\n",
    "import seaborn as sns\n",
    "import operator"
   ]
  },
  {
   "cell_type": "code",
   "execution_count": 2,
   "metadata": {},
   "outputs": [
    {
     "name": "stdout",
     "output_type": "stream",
     "text": [
      "(506, 14)\n"
     ]
    },
    {
     "data": {
      "text/html": [
       "<div>\n",
       "<style scoped>\n",
       "    .dataframe tbody tr th:only-of-type {\n",
       "        vertical-align: middle;\n",
       "    }\n",
       "\n",
       "    .dataframe tbody tr th {\n",
       "        vertical-align: top;\n",
       "    }\n",
       "\n",
       "    .dataframe thead th {\n",
       "        text-align: right;\n",
       "    }\n",
       "</style>\n",
       "<table border=\"1\" class=\"dataframe\">\n",
       "  <thead>\n",
       "    <tr style=\"text-align: right;\">\n",
       "      <th></th>\n",
       "      <th>Crim</th>\n",
       "      <th>Zn</th>\n",
       "      <th>Indus</th>\n",
       "      <th>Chas</th>\n",
       "      <th>Nox</th>\n",
       "      <th>Rm</th>\n",
       "      <th>Age</th>\n",
       "      <th>Dis</th>\n",
       "      <th>Rad</th>\n",
       "      <th>Tax</th>\n",
       "      <th>Ptratio</th>\n",
       "      <th>B</th>\n",
       "      <th>Lstat</th>\n",
       "      <th>Medv</th>\n",
       "    </tr>\n",
       "  </thead>\n",
       "  <tbody>\n",
       "    <tr>\n",
       "      <th>0</th>\n",
       "      <td>0.00632</td>\n",
       "      <td>18.0</td>\n",
       "      <td>2.31</td>\n",
       "      <td>0</td>\n",
       "      <td>0.538</td>\n",
       "      <td>6.575</td>\n",
       "      <td>65.2</td>\n",
       "      <td>4.0900</td>\n",
       "      <td>1</td>\n",
       "      <td>296</td>\n",
       "      <td>15.3</td>\n",
       "      <td>396.90</td>\n",
       "      <td>4.98</td>\n",
       "      <td>1</td>\n",
       "    </tr>\n",
       "    <tr>\n",
       "      <th>1</th>\n",
       "      <td>0.02731</td>\n",
       "      <td>0.0</td>\n",
       "      <td>7.07</td>\n",
       "      <td>0</td>\n",
       "      <td>0.469</td>\n",
       "      <td>6.421</td>\n",
       "      <td>78.9</td>\n",
       "      <td>4.9671</td>\n",
       "      <td>2</td>\n",
       "      <td>242</td>\n",
       "      <td>17.8</td>\n",
       "      <td>396.90</td>\n",
       "      <td>9.14</td>\n",
       "      <td>0</td>\n",
       "    </tr>\n",
       "    <tr>\n",
       "      <th>2</th>\n",
       "      <td>0.02729</td>\n",
       "      <td>0.0</td>\n",
       "      <td>7.07</td>\n",
       "      <td>0</td>\n",
       "      <td>0.469</td>\n",
       "      <td>7.185</td>\n",
       "      <td>61.1</td>\n",
       "      <td>4.9671</td>\n",
       "      <td>2</td>\n",
       "      <td>242</td>\n",
       "      <td>17.8</td>\n",
       "      <td>392.83</td>\n",
       "      <td>4.03</td>\n",
       "      <td>1</td>\n",
       "    </tr>\n",
       "    <tr>\n",
       "      <th>3</th>\n",
       "      <td>0.03237</td>\n",
       "      <td>0.0</td>\n",
       "      <td>2.18</td>\n",
       "      <td>0</td>\n",
       "      <td>0.458</td>\n",
       "      <td>6.998</td>\n",
       "      <td>45.8</td>\n",
       "      <td>6.0622</td>\n",
       "      <td>3</td>\n",
       "      <td>222</td>\n",
       "      <td>18.7</td>\n",
       "      <td>394.63</td>\n",
       "      <td>2.94</td>\n",
       "      <td>1</td>\n",
       "    </tr>\n",
       "    <tr>\n",
       "      <th>4</th>\n",
       "      <td>0.06905</td>\n",
       "      <td>0.0</td>\n",
       "      <td>2.18</td>\n",
       "      <td>0</td>\n",
       "      <td>0.458</td>\n",
       "      <td>7.147</td>\n",
       "      <td>54.2</td>\n",
       "      <td>6.0622</td>\n",
       "      <td>3</td>\n",
       "      <td>222</td>\n",
       "      <td>18.7</td>\n",
       "      <td>396.90</td>\n",
       "      <td>5.33</td>\n",
       "      <td>1</td>\n",
       "    </tr>\n",
       "  </tbody>\n",
       "</table>\n",
       "</div>"
      ],
      "text/plain": [
       "      Crim    Zn  Indus  Chas    Nox     Rm   Age     Dis  Rad  Tax  Ptratio  \\\n",
       "0  0.00632  18.0   2.31     0  0.538  6.575  65.2  4.0900    1  296     15.3   \n",
       "1  0.02731   0.0   7.07     0  0.469  6.421  78.9  4.9671    2  242     17.8   \n",
       "2  0.02729   0.0   7.07     0  0.469  7.185  61.1  4.9671    2  242     17.8   \n",
       "3  0.03237   0.0   2.18     0  0.458  6.998  45.8  6.0622    3  222     18.7   \n",
       "4  0.06905   0.0   2.18     0  0.458  7.147  54.2  6.0622    3  222     18.7   \n",
       "\n",
       "        B  Lstat  Medv  \n",
       "0  396.90   4.98     1  \n",
       "1  396.90   9.14     0  \n",
       "2  392.83   4.03     1  \n",
       "3  394.63   2.94     1  \n",
       "4  396.90   5.33     1  "
      ]
     },
     "execution_count": 2,
     "metadata": {},
     "output_type": "execute_result"
    }
   ],
   "source": [
    "boston = pd.read_csv(\"housing.header.binary.txt\")\n",
    "print(boston.shape)\n",
    "boston.head()"
   ]
  },
  {
   "cell_type": "code",
   "execution_count": 5,
   "metadata": {},
   "outputs": [
    {
     "data": {
      "text/html": [
       "<div>\n",
       "<style scoped>\n",
       "    .dataframe tbody tr th:only-of-type {\n",
       "        vertical-align: middle;\n",
       "    }\n",
       "\n",
       "    .dataframe tbody tr th {\n",
       "        vertical-align: top;\n",
       "    }\n",
       "\n",
       "    .dataframe thead th {\n",
       "        text-align: right;\n",
       "    }\n",
       "</style>\n",
       "<table border=\"1\" class=\"dataframe\">\n",
       "  <thead>\n",
       "    <tr style=\"text-align: right;\">\n",
       "      <th></th>\n",
       "      <th>Medv</th>\n",
       "    </tr>\n",
       "  </thead>\n",
       "  <tbody>\n",
       "    <tr>\n",
       "      <th>0</th>\n",
       "      <td>1</td>\n",
       "    </tr>\n",
       "    <tr>\n",
       "      <th>1</th>\n",
       "      <td>0</td>\n",
       "    </tr>\n",
       "    <tr>\n",
       "      <th>2</th>\n",
       "      <td>1</td>\n",
       "    </tr>\n",
       "    <tr>\n",
       "      <th>3</th>\n",
       "      <td>1</td>\n",
       "    </tr>\n",
       "    <tr>\n",
       "      <th>4</th>\n",
       "      <td>1</td>\n",
       "    </tr>\n",
       "    <tr>\n",
       "      <th>...</th>\n",
       "      <td>...</td>\n",
       "    </tr>\n",
       "    <tr>\n",
       "      <th>501</th>\n",
       "      <td>0</td>\n",
       "    </tr>\n",
       "    <tr>\n",
       "      <th>502</th>\n",
       "      <td>0</td>\n",
       "    </tr>\n",
       "    <tr>\n",
       "      <th>503</th>\n",
       "      <td>1</td>\n",
       "    </tr>\n",
       "    <tr>\n",
       "      <th>504</th>\n",
       "      <td>0</td>\n",
       "    </tr>\n",
       "    <tr>\n",
       "      <th>505</th>\n",
       "      <td>0</td>\n",
       "    </tr>\n",
       "  </tbody>\n",
       "</table>\n",
       "<p>506 rows × 1 columns</p>\n",
       "</div>"
      ],
      "text/plain": [
       "     Medv\n",
       "0       1\n",
       "1       0\n",
       "2       1\n",
       "3       1\n",
       "4       1\n",
       "..    ...\n",
       "501     0\n",
       "502     0\n",
       "503     1\n",
       "504     0\n",
       "505     0\n",
       "\n",
       "[506 rows x 1 columns]"
      ]
     },
     "execution_count": 5,
     "metadata": {},
     "output_type": "execute_result"
    }
   ],
   "source": [
    "features,labels=boston.iloc[:0:-1],boston.loc[:,['Medv']]\n",
    "features\n",
    "labels"
   ]
  },
  {
   "cell_type": "code",
   "execution_count": 10,
   "metadata": {},
   "outputs": [
    {
     "data": {
      "text/plain": [
       "<matplotlib.collections.PathCollection at 0x1021d00>"
      ]
     },
     "execution_count": 10,
     "metadata": {},
     "output_type": "execute_result"
    },
    {
     "data": {
      "image/png": "[encoded data removed]",
      "text/plain": [
       "<Figure size 432x288 with 1 Axes>"
      ]
     },
     "metadata": {
      "needs_background": "light"
     },
     "output_type": "display_data"
    }
   ],
   "source": [
    "plt.scatter(boston.loc[:,['Rm']], labels)"
   ]
  },
  {
   "cell_type": "code",
   "execution_count": 11,
   "metadata": {
    "scrolled": true
   },
   "outputs": [
    {
     "data": {
      "text/plain": [
       "<matplotlib.collections.PathCollection at 0x1053ef8>"
      ]
     },
     "execution_count": 11,
     "metadata": {},
     "output_type": "execute_result"
    },
    {
     "data": {
      "image/png": "[encoded data removed]",
      "text/plain": [
       "<Figure size 432x288 with 1 Axes>"
      ]
     },
     "metadata": {
      "needs_background": "light"
     },
     "output_type": "display_data"
    }
   ],
   "source": [
    "plt.scatter(boston.loc[:,['Lstat']], labels)"
   ]
  },
  {
   "cell_type": "code",
   "execution_count": null,
   "metadata": {},
   "outputs": [],
   "source": [
    "from sklearn import tree"
   ]
  },
  {
   "cell_type": "code",
   "execution_count": 1,
   "metadata": {},
   "outputs": [
    {
     "name": "stdout",
     "output_type": "stream",
     "text": [
      "[[ 0.03159499  0.98698776]\n",
      " [ 2.11509784 -0.04624397]\n",
      " [ 0.88248972 -0.07575606]\n",
      " [-0.0551441  -0.03733246]\n",
      " [ 0.82954503 -0.53932149]\n",
      " [ 2.11285708  0.66208353]\n",
      " [ 0.5696927   0.33744136]\n",
      " [ 0.95217454 -0.75307471]\n",
      " [-0.02922115  0.39287336]\n",
      " [ 1.71579557  0.36069454]\n",
      " [-0.27883014  0.61420539]\n",
      " [ 2.00344509 -0.3091496 ]\n",
      " [ 1.50009616 -0.74636376]\n",
      " [ 1.22540835  1.19793017]\n",
      " [ 0.46730819  0.54703192]\n",
      " [-0.36653222  1.11971633]\n",
      " [ 0.30124459  1.23315697]\n",
      " [ 0.30430746  0.82373935]\n",
      " [-0.23712492  0.77876034]\n",
      " [ 1.16339832  0.55290238]\n",
      " [-0.59702417  0.6572361 ]\n",
      " [ 0.46356735 -0.1951543 ]\n",
      " [ 0.68451111  0.75287685]\n",
      " [ 0.70515699 -0.45892444]\n",
      " [-0.65805008 -0.12944211]\n",
      " [-0.74662946 -0.3829632 ]\n",
      " [ 0.60585226  0.31252842]\n",
      " [ 2.18137168 -0.02291747]\n",
      " [ 1.91980633  0.17247329]\n",
      " [ 1.4834364  -0.10517023]\n",
      " [ 0.47404723 -0.14575067]\n",
      " [ 1.05614605 -1.03570207]\n",
      " [ 1.86500732 -0.01107874]\n",
      " [ 0.4194721  -0.32478101]\n",
      " [ 0.06873258  0.56648467]\n",
      " [-0.17332432  1.00215131]\n",
      " [ 0.12412421  1.00062892]\n",
      " [ 0.18121142  0.24717743]\n",
      " [-0.25451559  0.19317272]\n",
      " [ 1.02580668 -0.62574566]\n",
      " [ 1.52002143 -0.04515581]\n",
      " [ 0.64174037 -0.39369468]\n",
      " [-0.87615589  0.0465662 ]\n",
      " [-1.06964997  0.13666025]\n",
      " [ 1.02658765  0.37782458]\n",
      " [ 0.93131325  1.38517841]\n",
      " [ 0.67680544  1.57189931]\n",
      " [-0.36885733  0.72886601]\n",
      " [-1.02465495  0.16190215]\n",
      " [ 0.77455385  0.15375803]\n",
      " [ 1.4045116  -0.00705701]\n",
      " [-0.38147174 -0.23488747]\n",
      " [ 0.72155224  0.44721658]\n",
      " [-0.51346686  0.67869095]\n",
      " [ 0.32118546  0.28668667]\n",
      " [ 0.1953628   0.16085107]\n",
      " [ 0.52824196  0.98300993]\n",
      " [-0.2216539   0.25160139]\n",
      " [ 0.22334676  1.32217183]\n",
      " [-0.10704572  0.56178326]\n",
      " [ 0.63651685  0.75444825]\n",
      " [-0.37227848  0.99291317]\n",
      " [ 0.20718083 -0.09767143]\n",
      " [ 0.12733142 -0.3796549 ]\n",
      " [ 0.71435231 -0.79994161]\n",
      " [ 1.09487814 -0.36841845]\n",
      " [-0.14814362  0.96158657]\n",
      " [ 1.586188   -0.62984517]\n",
      " [ 0.74444551  0.57661371]\n",
      " [ 2.18011028 -0.69977751]\n",
      " [ 0.24575594  0.8496383 ]\n",
      " [-0.95003581  0.90361699]\n",
      " [-0.88230758  0.07249044]\n",
      " [ 2.02297079  0.12325148]\n",
      " [ 2.14577321  0.46296362]\n",
      " [ 0.35536468 -0.67847989]\n",
      " [ 0.34665026  1.11570676]\n",
      " [ 1.7392373   0.45900352]\n",
      " [ 0.63856467 -0.44718443]\n",
      " [ 1.2876687  -0.4910366 ]\n",
      " [-0.13772607  1.2453262 ]\n",
      " [-0.56175303  1.05486051]\n",
      " [ 1.29003748 -0.20691405]\n",
      " [-0.87539365  0.50543423]\n",
      " [-0.92858249 -0.45631991]\n",
      " [ 0.02493632  0.10747958]\n",
      " [ 0.1972559  -0.06801668]\n",
      " [ 0.73346056  0.28161929]\n",
      " [ 1.68294434 -0.2020423 ]\n",
      " [ 0.50764124 -0.11731979]\n",
      " [ 1.66760217 -0.42485665]\n",
      " [-0.82172282  0.63141066]\n",
      " [ 0.30170903  0.78603534]\n",
      " [ 1.37671505 -0.80915107]\n",
      " [ 1.17037551  0.59840653]\n",
      " [ 1.69945309  0.58771967]\n",
      " [ 0.21862323 -0.65252119]\n",
      " [ 0.95291428 -0.41976564]\n",
      " [-1.31850034  0.42311235]\n",
      " [-1.29681764  0.18414709]]\n",
      "[0 1 0 1 1 1 0 1 1 1 1 1 1 0 0 0 0 0 0 0 0 1 0 1 0 0 0 1 1 1 1 1 1 1 1 0 0\n",
      " 1 1 1 0 1 0 0 0 0 0 0 0 0 1 1 0 0 0 1 0 0 0 1 0 0 1 1 1 1 0 1 0 1 0 0 0 1\n",
      " 1 1 0 1 1 1 0 0 1 0 0 1 1 0 1 1 1 0 0 1 0 1 1 1 0 0]\n"
     ]
    }
   ],
   "source": [
    "from sklearn.datasets import make_moons, make_classification\n",
    "moon =make_moons(noise=0.3, random_state=0)\n",
    "features,labels=moon\n",
    "print(features)\n",
    "print(labels)"
   ]
  }
 ],
 "metadata": {
  "kernelspec": {
   "display_name": "Python 3",
   "language": "python",
   "name": "python3"
  },
  "language_info": {
   "codemirror_mode": {
    "name": "ipython",
    "version": 3
   },
   "file_extension": ".py",
   "mimetype": "text/x-python",
   "name": "python",
   "nbconvert_exporter": "python",
   "pygments_lexer": "ipython3",
   "version": "3.8.5"
  }
 },
 "nbformat": 4,
 "nbformat_minor": 4
}
